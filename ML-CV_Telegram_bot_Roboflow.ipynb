{
 "cells": [
  {
   "cell_type": "markdown",
   "metadata": {
    "id": "t66s3_LfkRpX"
   },
   "source": [
    "Это ML-CV Телеграм бот, который реализует pipeline: получает через Телеграм бот (ROALNDbot) фото повреждения машины, отправляет его сюда в Google Colab, далее отправляет на сайт Roboflow к выбранной ML модели, получает результат анализа изображения и отправляет его обратнов Телеграм бот, ввиде ответа на картинку.\n",
    "Ресурс с опенсорсными ML моделями:\n",
    "- https://universe.roboflow.com/\n",
    "- https://universe.roboflow.com/mario-cv/etiquetado-de-danos/images/K1oKdelXXGWIS4OlqXZF?queryText=&pageSize=50&startingIndex=0&browseQuery=true"
   ]
  },
  {
   "cell_type": "markdown",
   "metadata": {},
   "source": [
    "1. УСТАНАВЛИВАЕМ ОДНУ ИЗ БИБЛИОТЕК ДЛЯ ТЕЛЕГРАМ"
   ]
  },
  {
   "cell_type": "code",
   "execution_count": null,
   "metadata": {
    "colab": {
     "base_uri": "https://localhost:8080/"
    },
    "id": "NByOY3HbpK0L",
    "outputId": "e3995097-79ea-4dbc-958f-2ba5a1648bd0"
   },
   "outputs": [
    {
     "name": "stdout",
     "output_type": "stream",
     "text": [
      "Collecting telebot\n",
      "  Downloading telebot-0.0.5-py3-none-any.whl.metadata (2.0 kB)\n",
      "Collecting pyTelegramBotAPI (from telebot)\n",
      "  Downloading pytelegrambotapi-4.26.0-py3-none-any.whl.metadata (48 kB)\n",
      "\u001b[2K     \u001b[90m━━━━━━━━━━━━━━━━━━━━━━━━━━━━━━━━━━━━━━━━\u001b[0m \u001b[32m48.1/48.1 kB\u001b[0m \u001b[31m1.8 MB/s\u001b[0m eta \u001b[36m0:00:00\u001b[0m\n",
      "\u001b[?25hRequirement already satisfied: requests in /usr/local/lib/python3.11/dist-packages (from telebot) (2.32.3)\n",
      "Requirement already satisfied: charset-normalizer<4,>=2 in /usr/local/lib/python3.11/dist-packages (from requests->telebot) (3.4.1)\n",
      "Requirement already satisfied: idna<4,>=2.5 in /usr/local/lib/python3.11/dist-packages (from requests->telebot) (3.10)\n",
      "Requirement already satisfied: urllib3<3,>=1.21.1 in /usr/local/lib/python3.11/dist-packages (from requests->telebot) (2.3.0)\n",
      "Requirement already satisfied: certifi>=2017.4.17 in /usr/local/lib/python3.11/dist-packages (from requests->telebot) (2025.1.31)\n",
      "Downloading telebot-0.0.5-py3-none-any.whl (4.8 kB)\n",
      "Downloading pytelegrambotapi-4.26.0-py3-none-any.whl (270 kB)\n",
      "\u001b[2K   \u001b[90m━━━━━━━━━━━━━━━━━━━━━━━━━━━━━━━━━━━━━━━━\u001b[0m \u001b[32m270.5/270.5 kB\u001b[0m \u001b[31m6.0 MB/s\u001b[0m eta \u001b[36m0:00:00\u001b[0m\n",
      "\u001b[?25hInstalling collected packages: pyTelegramBotAPI, telebot\n",
      "Successfully installed pyTelegramBotAPI-4.26.0 telebot-0.0.5\n"
     ]
    }
   ],
   "source": [
    "!pip install telebot"
   ]
  },
  {
   "cell_type": "markdown",
   "metadata": {
    "id": "4kR6ejestXHe"
   },
   "source": [
    "2. В ТЕЛЕГРАМ В БОТЕ BotFather СОЗДАЕМ СВОЕГО БОТА\n",
    "- /newbot\n",
    "- имя бота ROALNDbot\n",
    "- получаем токен для API: ########################################"
   ]
  },
  {
   "cell_type": "markdown",
   "metadata": {
    "id": "U1iDYMvN3Rbj"
   },
   "source": [
    "I've created my own bot in Telegram \"ROALNDbot - turbinus_bot\"-(created by @BotFather in Telegram):\n",
    "\n",
    "Done! Congratulations on your new bot. You will find it at t.me/turbinus_bot. You can now add a description, about section and profile picture for your bot, see /help for a list of commands. By the way, when you've finished creating your cool bot, ping our Bot Support if you want a better username for it. Just make sure the bot is fully operational before you do this.\n",
    "\n",
    "Use this token to access the HTTP API:\n",
    "#############################################\n",
    "Keep your token secure and store it safely, it can be used by anyone to control your bot.\n",
    "\n",
    "For a description of the Bot API, see this page: https://core.telegram.org/bots/api"
   ]
  },
  {
   "cell_type": "markdown",
   "metadata": {
    "id": "9hddwdwjTfdO"
   },
   "source": [
    "3. ИМПОРТИРУЕМ БИБЛИОТЕКУ И СОЗДАЕМ СУЩНОСТЬ С ТОКЕНОМ СОЗДАННОГО ТЕЛЕГРАМ БОТА \"ROALNDbot\"\\\n",
    "   ПРОВЕРЯЕМ РАБОТУ БОТА В РЕЖИМЕ \"ЭХО-бот\" "
   ]
  },
  {
   "cell_type": "markdown",
   "metadata": {},
   "source": [
    "!!! ДЛЯ РАБОТЫ БОТА НОДА ДОЛЖНА НЕПРЕРЫВНО ИСПОЛНЯТЬСЯ"
   ]
  },
  {
   "cell_type": "code",
   "execution_count": null,
   "metadata": {
    "id": "KlNeey5Fo86w"
   },
   "outputs": [],
   "source": [
    "import telebot\n",
    "\n",
    "#подключаемся к боту \"ROALNDbot\" используя токен, полученный в Телеграм\n",
    "bot = telebot.TeleBot('##############################################')\n",
    "                       \n",
    "@bot.message_handler(commands=[\"start\"]) #декоратор исполняется при получении ботом комманды \"start\" в Телеграм\n",
    "\n",
    "def start(m, res=False):\n",
    "    bot.send_message(m.chat.id, 'Бот запущен!')\n",
    "\n",
    "@bot.message_handler(content_types=[\"text\"]) #  это декортаор \"ЭХО-бота\" он возаращает сообщение, что ему написали, для проверки его работы\n",
    "\n",
    "def handle_text(message):\n",
    "    bot.send_message(message.chat.id, 'Вы написали: ' + message.text)\n",
    "\n",
    "bot.polling(none_stop=True, interval=0)"
   ]
  },
  {
   "cell_type": "markdown",
   "metadata": {},
   "source": [
    "bot.polling(none_stop=True, interval=0) -> запускаем процесс поллинга — постоянного опроса серверов Telegram на предмет новых сообщений и событий для бота.\\\n",
    "Параметр none_stop=True означает, что бот не будет останавливать поллинг при возникновении ошибок, а будет пытаться продолжать работу без перезапуска.\\\n",
    "Параметр interval=0 задаёт минимальную задержку между запросами к серверам Telegram, то есть бот опрашивает серверы практически без пауз.\\\n",
    "Таким образом, эта команда запускает бесконечный цикл получения обновлений от Telegram, позволяя боту постоянно реагировать на сообщения и команды пользователей.\\\n",
    "! Для более стабильной работы лучше обернуть bot.polling() в цикл с обработкой исключений, чтобы при падении соединения бот автоматически перезапускался."
   ]
  },
  {
   "cell_type": "markdown",
   "metadata": {
    "id": "n8DA2-F_tYs9"
   },
   "source": [
    "4. ЗАПУСКАЕМ БОТ В РЕЖИМЕ \"ЭХО-бот\" + \"ПОЛУЧЕНИЕ КАРТИНКИ\" ИЗ ТЕЛЕГРАМ И СОХРАНЕНИЯ КАРТИНКИ В CЕССИЮ GOOGLE COLAB"
   ]
  },
  {
   "cell_type": "code",
   "execution_count": null,
   "metadata": {
    "id": "-PSnftnmtcBY"
   },
   "outputs": [],
   "source": [
    "import telebot\n",
    "\n",
    "# Создаем экземпляр бота\n",
    "bot = telebot.TeleBot('##############################################')\n",
    "\n",
    "# Функция, обрабатывающая команду /start\n",
    "@bot.message_handler(commands=[\"start\"])\n",
    "\n",
    "def start(m, res=False):\n",
    "    bot.send_message(m.chat.id, 'Бот запущен!')\n",
    "\n",
    "# Получение сообщений от пользователя\n",
    "@bot.message_handler(content_types=[\"text\"])\n",
    "\n",
    "def handle_text(message):\n",
    "\n",
    "    bot.send_message(message.chat.id, 'Вы написали: ' + message.text)\n",
    "\n",
    "# Функция, обрабатывающая команду получение картинки\n",
    "@bot.message_handler(content_types=[\"photo\"])\n",
    "def handle_photo(message):\n",
    "    bot.send_message(message.chat.id, 'Фото получено')\n",
    "    photo = message.photo\n",
    "    fileID = message.photo[-1].file_id\n",
    "    file_info = bot.get_file(fileID)\n",
    "    downloaded_file = bot.download_file(file_info.file_path)\n",
    "    with open(\"image.jpg\", 'wb') as new_file:\n",
    "      new_file.write(downloaded_file)\n",
    "\n",
    "# Запускаем поллинг бота (непрерывный опрос Телеграм)\n",
    "bot.polling(none_stop=True, interval=0)"
   ]
  },
  {
   "cell_type": "markdown",
   "metadata": {},
   "source": [
    "5. ЗАПУСКАЕМ БОТ В РЕЖИМЕ \"ЭХО-бот\" + \"ПОЛУЧЕНИЕ КАРТИНКИ\" + \"ПЕРЕДАЧА КАРТИНКИ В ML-CV МОДЕЛЬ ROBOFLOW\" + \"ПОЛУЧЕНИЕ РЕЗУЛЬТАТ ОТ ROBOFLOW\" + \"ОТПРАВКА РЕЗУЛЬТАТА В ТЕЛЕГРАМ\""
   ]
  },
  {
   "cell_type": "code",
   "execution_count": null,
   "metadata": {
    "colab": {
     "base_uri": "https://localhost:8080/"
    },
    "collapsed": true,
    "id": "EVe-sym-xAkU",
    "jupyter": {
     "outputs_hidden": true
    },
    "outputId": "7020e326-8a43-46f3-9729-79a75a266509",
    "scrolled": true
   },
   "outputs": [
    {
     "name": "stdout",
     "output_type": "stream",
     "text": [
      "Collecting cv\n",
      "  Downloading cv-1.0.0-py3-none-any.whl.metadata (3.6 kB)\n",
      "Downloading cv-1.0.0-py3-none-any.whl (7.3 kB)\n",
      "Installing collected packages: cv\n",
      "Successfully installed cv-1.0.0\n"
     ]
    }
   ],
   "source": [
    "!pip install cv"
   ]
  },
  {
   "cell_type": "code",
   "execution_count": null,
   "metadata": {
    "colab": {
     "base_uri": "https://localhost:8080/",
     "height": 1000
    },
    "collapsed": true,
    "id": "XMM2E06owqTJ",
    "jupyter": {
     "outputs_hidden": true
    },
    "outputId": "22696237-b536-4dda-ba2d-990540f792c6"
   },
   "outputs": [
    {
     "name": "stdout",
     "output_type": "stream",
     "text": [
      "Collecting inference_sdk\n",
      "  Downloading inference_sdk-0.41.0-py3-none-any.whl.metadata (20 kB)\n",
      "Requirement already satisfied: requests<3.0.0,>=2.32.0 in /usr/local/lib/python3.11/dist-packages (from inference_sdk) (2.32.3)\n",
      "Collecting dataclasses-json~=0.6.0 (from inference_sdk)\n",
      "  Downloading dataclasses_json-0.6.7-py3-none-any.whl.metadata (25 kB)\n",
      "Collecting opencv-python<=4.10.0.84,>=4.8.1.78 (from inference_sdk)\n",
      "  Downloading opencv_python-4.10.0.84-cp37-abi3-manylinux_2_17_x86_64.manylinux2014_x86_64.whl.metadata (20 kB)\n",
      "Collecting pillow<11.0,>=9.0.0 (from inference_sdk)\n",
      "  Downloading pillow-10.4.0-cp311-cp311-manylinux_2_28_x86_64.whl.metadata (9.2 kB)\n",
      "Collecting supervision<=0.30.0,>=0.25.1 (from inference_sdk)\n",
      "  Downloading supervision-0.25.1-py3-none-any.whl.metadata (14 kB)\n",
      "Requirement already satisfied: numpy<=1.26.4 in /usr/local/lib/python3.11/dist-packages (from inference_sdk) (1.26.4)\n",
      "Collecting aiohttp<=3.10.11,>=3.9.0 (from inference_sdk)\n",
      "  Downloading aiohttp-3.10.11-cp311-cp311-manylinux_2_17_x86_64.manylinux2014_x86_64.whl.metadata (7.7 kB)\n",
      "Collecting backoff~=2.2.0 (from inference_sdk)\n",
      "  Downloading backoff-2.2.1-py3-none-any.whl.metadata (14 kB)\n",
      "Requirement already satisfied: py-cpuinfo~=9.0.0 in /usr/local/lib/python3.11/dist-packages (from inference_sdk) (9.0.0)\n",
      "Requirement already satisfied: aiohappyeyeballs>=2.3.0 in /usr/local/lib/python3.11/dist-packages (from aiohttp<=3.10.11,>=3.9.0->inference_sdk) (2.4.6)\n",
      "Requirement already satisfied: aiosignal>=1.1.2 in /usr/local/lib/python3.11/dist-packages (from aiohttp<=3.10.11,>=3.9.0->inference_sdk) (1.3.2)\n",
      "Requirement already satisfied: attrs>=17.3.0 in /usr/local/lib/python3.11/dist-packages (from aiohttp<=3.10.11,>=3.9.0->inference_sdk) (25.1.0)\n",
      "Requirement already satisfied: frozenlist>=1.1.1 in /usr/local/lib/python3.11/dist-packages (from aiohttp<=3.10.11,>=3.9.0->inference_sdk) (1.5.0)\n",
      "Requirement already satisfied: multidict<7.0,>=4.5 in /usr/local/lib/python3.11/dist-packages (from aiohttp<=3.10.11,>=3.9.0->inference_sdk) (6.1.0)\n",
      "Requirement already satisfied: yarl<2.0,>=1.12.0 in /usr/local/lib/python3.11/dist-packages (from aiohttp<=3.10.11,>=3.9.0->inference_sdk) (1.18.3)\n",
      "Collecting marshmallow<4.0.0,>=3.18.0 (from dataclasses-json~=0.6.0->inference_sdk)\n",
      "  Downloading marshmallow-3.26.1-py3-none-any.whl.metadata (7.3 kB)\n",
      "Collecting typing-inspect<1,>=0.4.0 (from dataclasses-json~=0.6.0->inference_sdk)\n",
      "  Downloading typing_inspect-0.9.0-py3-none-any.whl.metadata (1.5 kB)\n",
      "Requirement already satisfied: charset-normalizer<4,>=2 in /usr/local/lib/python3.11/dist-packages (from requests<3.0.0,>=2.32.0->inference_sdk) (3.4.1)\n",
      "Requirement already satisfied: idna<4,>=2.5 in /usr/local/lib/python3.11/dist-packages (from requests<3.0.0,>=2.32.0->inference_sdk) (3.10)\n",
      "Requirement already satisfied: urllib3<3,>=1.21.1 in /usr/local/lib/python3.11/dist-packages (from requests<3.0.0,>=2.32.0->inference_sdk) (2.3.0)\n",
      "Requirement already satisfied: certifi>=2017.4.17 in /usr/local/lib/python3.11/dist-packages (from requests<3.0.0,>=2.32.0->inference_sdk) (2025.1.31)\n",
      "Requirement already satisfied: contourpy>=1.0.7 in /usr/local/lib/python3.11/dist-packages (from supervision<=0.30.0,>=0.25.1->inference_sdk) (1.3.1)\n",
      "Requirement already satisfied: defusedxml<0.8.0,>=0.7.1 in /usr/local/lib/python3.11/dist-packages (from supervision<=0.30.0,>=0.25.1->inference_sdk) (0.7.1)\n",
      "Requirement already satisfied: matplotlib>=3.6.0 in /usr/local/lib/python3.11/dist-packages (from supervision<=0.30.0,>=0.25.1->inference_sdk) (3.10.0)\n",
      "Requirement already satisfied: pyyaml>=5.3 in /usr/local/lib/python3.11/dist-packages (from supervision<=0.30.0,>=0.25.1->inference_sdk) (6.0.2)\n",
      "Requirement already satisfied: scipy<2.0.0,>=1.10.0 in /usr/local/lib/python3.11/dist-packages (from supervision<=0.30.0,>=0.25.1->inference_sdk) (1.13.1)\n",
      "Requirement already satisfied: tqdm>=4.62.3 in /usr/local/lib/python3.11/dist-packages (from supervision<=0.30.0,>=0.25.1->inference_sdk) (4.67.1)\n",
      "Requirement already satisfied: packaging>=17.0 in /usr/local/lib/python3.11/dist-packages (from marshmallow<4.0.0,>=3.18.0->dataclasses-json~=0.6.0->inference_sdk) (24.2)\n",
      "Requirement already satisfied: cycler>=0.10 in /usr/local/lib/python3.11/dist-packages (from matplotlib>=3.6.0->supervision<=0.30.0,>=0.25.1->inference_sdk) (0.12.1)\n",
      "Requirement already satisfied: fonttools>=4.22.0 in /usr/local/lib/python3.11/dist-packages (from matplotlib>=3.6.0->supervision<=0.30.0,>=0.25.1->inference_sdk) (4.56.0)\n",
      "Requirement already satisfied: kiwisolver>=1.3.1 in /usr/local/lib/python3.11/dist-packages (from matplotlib>=3.6.0->supervision<=0.30.0,>=0.25.1->inference_sdk) (1.4.8)\n",
      "Requirement already satisfied: pyparsing>=2.3.1 in /usr/local/lib/python3.11/dist-packages (from matplotlib>=3.6.0->supervision<=0.30.0,>=0.25.1->inference_sdk) (3.2.1)\n",
      "Requirement already satisfied: python-dateutil>=2.7 in /usr/local/lib/python3.11/dist-packages (from matplotlib>=3.6.0->supervision<=0.30.0,>=0.25.1->inference_sdk) (2.8.2)\n",
      "Collecting mypy-extensions>=0.3.0 (from typing-inspect<1,>=0.4.0->dataclasses-json~=0.6.0->inference_sdk)\n",
      "  Downloading mypy_extensions-1.0.0-py3-none-any.whl.metadata (1.1 kB)\n",
      "Requirement already satisfied: typing-extensions>=3.7.4 in /usr/local/lib/python3.11/dist-packages (from typing-inspect<1,>=0.4.0->dataclasses-json~=0.6.0->inference_sdk) (4.12.2)\n",
      "Requirement already satisfied: propcache>=0.2.0 in /usr/local/lib/python3.11/dist-packages (from yarl<2.0,>=1.12.0->aiohttp<=3.10.11,>=3.9.0->inference_sdk) (0.3.0)\n",
      "Requirement already satisfied: six>=1.5 in /usr/local/lib/python3.11/dist-packages (from python-dateutil>=2.7->matplotlib>=3.6.0->supervision<=0.30.0,>=0.25.1->inference_sdk) (1.17.0)\n",
      "Downloading inference_sdk-0.41.0-py3-none-any.whl (43 kB)\n",
      "\u001b[2K   \u001b[90m━━━━━━━━━━━━━━━━━━━━━━━━━━━━━━━━━━━━━━━━\u001b[0m \u001b[32m43.2/43.2 kB\u001b[0m \u001b[31m2.6 MB/s\u001b[0m eta \u001b[36m0:00:00\u001b[0m\n",
      "\u001b[?25hDownloading aiohttp-3.10.11-cp311-cp311-manylinux_2_17_x86_64.manylinux2014_x86_64.whl (1.3 MB)\n",
      "\u001b[2K   \u001b[90m━━━━━━━━━━━━━━━━━━━━━━━━━━━━━━━━━━━━━━━━\u001b[0m \u001b[32m1.3/1.3 MB\u001b[0m \u001b[31m16.3 MB/s\u001b[0m eta \u001b[36m0:00:00\u001b[0m\n",
      "\u001b[?25hDownloading backoff-2.2.1-py3-none-any.whl (15 kB)\n",
      "Downloading dataclasses_json-0.6.7-py3-none-any.whl (28 kB)\n",
      "Downloading opencv_python-4.10.0.84-cp37-abi3-manylinux_2_17_x86_64.manylinux2014_x86_64.whl (62.5 MB)\n",
      "\u001b[2K   \u001b[90m━━━━━━━━━━━━━━━━━━━━━━━━━━━━━━━━━━━━━━━━\u001b[0m \u001b[32m62.5/62.5 MB\u001b[0m \u001b[31m8.7 MB/s\u001b[0m eta \u001b[36m0:00:00\u001b[0m\n",
      "\u001b[?25hDownloading pillow-10.4.0-cp311-cp311-manylinux_2_28_x86_64.whl (4.5 MB)\n",
      "\u001b[2K   \u001b[90m━━━━━━━━━━━━━━━━━━━━━━━━━━━━━━━━━━━━━━━━\u001b[0m \u001b[32m4.5/4.5 MB\u001b[0m \u001b[31m88.4 MB/s\u001b[0m eta \u001b[36m0:00:00\u001b[0m\n",
      "\u001b[?25hDownloading supervision-0.25.1-py3-none-any.whl (181 kB)\n",
      "\u001b[2K   \u001b[90m━━━━━━━━━━━━━━━━━━━━━━━━━━━━━━━━━━━━━━━━\u001b[0m \u001b[32m181.5/181.5 kB\u001b[0m \u001b[31m14.3 MB/s\u001b[0m eta \u001b[36m0:00:00\u001b[0m\n",
      "\u001b[?25hDownloading marshmallow-3.26.1-py3-none-any.whl (50 kB)\n",
      "\u001b[2K   \u001b[90m━━━━━━━━━━━━━━━━━━━━━━━━━━━━━━━━━━━━━━━━\u001b[0m \u001b[32m50.9/50.9 kB\u001b[0m \u001b[31m3.7 MB/s\u001b[0m eta \u001b[36m0:00:00\u001b[0m\n",
      "\u001b[?25hDownloading typing_inspect-0.9.0-py3-none-any.whl (8.8 kB)\n",
      "Downloading mypy_extensions-1.0.0-py3-none-any.whl (4.7 kB)\n",
      "Installing collected packages: pillow, opencv-python, mypy-extensions, marshmallow, backoff, typing-inspect, aiohttp, supervision, dataclasses-json, inference_sdk\n",
      "  Attempting uninstall: pillow\n",
      "    Found existing installation: pillow 11.1.0\n",
      "    Uninstalling pillow-11.1.0:\n",
      "      Successfully uninstalled pillow-11.1.0\n",
      "  Attempting uninstall: opencv-python\n",
      "    Found existing installation: opencv-python 4.11.0.86\n",
      "    Uninstalling opencv-python-4.11.0.86:\n",
      "      Successfully uninstalled opencv-python-4.11.0.86\n",
      "  Attempting uninstall: aiohttp\n",
      "    Found existing installation: aiohttp 3.11.13\n",
      "    Uninstalling aiohttp-3.11.13:\n",
      "      Successfully uninstalled aiohttp-3.11.13\n",
      "Successfully installed aiohttp-3.10.11 backoff-2.2.1 dataclasses-json-0.6.7 inference_sdk-0.41.0 marshmallow-3.26.1 mypy-extensions-1.0.0 opencv-python-4.10.0.84 pillow-10.4.0 supervision-0.25.1 typing-inspect-0.9.0\n"
     ]
    },
    {
     "data": {
      "application/vnd.colab-display-data+json": {
       "id": "0f59b6b80f944da5af1ef03ef7e6dde2",
       "pip_warning": {
        "packages": [
         "PIL"
        ]
       }
      }
     },
     "metadata": {},
     "output_type": "display_data"
    }
   ],
   "source": [
    "!pip install inference_sdk #библиотека для подключения к Roboflow"
   ]
  },
  {
   "cell_type": "code",
   "execution_count": null,
   "metadata": {
    "colab": {
     "base_uri": "https://localhost:8080/"
    },
    "collapsed": true,
    "id": "T1nJtQnowkgG",
    "jupyter": {
     "outputs_hidden": true
    },
    "outputId": "80a72f3c-703a-416b-f814-5a5a3d9153c5"
   },
   "outputs": [
    {
     "name": "stdout",
     "output_type": "stream",
     "text": [
      "[<telebot.types.PhotoSize object at 0x7ad6fb88ea50>, <telebot.types.PhotoSize object at 0x7ad6fb772850>, <telebot.types.PhotoSize object at 0x7ad6c6ee7ad0>, <telebot.types.PhotoSize object at 0x7ad6c67d0590>, <telebot.types.PhotoSize object at 0x7ad6cbc34310>]\n"
     ]
    }
   ],
   "source": [
    "import telebot\n",
    "from google.colab.patches import cv2_imshow\n",
    "from inference_sdk import InferenceHTTPClient\n",
    "\n",
    "# Создаем экземпляр бота\n",
    "bot = telebot.TeleBot('##############################################')\n",
    "\n",
    "# Функция, обрабатывающая команду /start\n",
    "@bot.message_handler(commands=[\"start\"])\n",
    "\n",
    "def start(m, res=False):\n",
    "    bot.send_message(m.chat.id, 'Бот запущен!')\n",
    "\n",
    "# Получение сообщений от пользователя\n",
    "@bot.message_handler(content_types=[\"text\"])\n",
    "\n",
    "def handle_text(message):\n",
    "    bot.send_message(message.chat.id, 'Вы написали: ' + message.text)\n",
    "\n",
    "@bot.message_handler(content_types=[\"photo\"])\n",
    "def handle_photo(message):\n",
    "    bot.send_message(message.chat.id, 'Фото получено')\n",
    "    photo = message.photo\n",
    "    fileID = message.photo[-1].file_id\n",
    "    file_info = bot.get_file(fileID)\n",
    "    downloaded_file = bot.download_file(file_info.file_path)\n",
    "    with open(\"image.jpg\", 'wb') as new_file:\n",
    "      new_file.write(downloaded_file)\n",
    "        \n",
    "      #Подключение к Roboflow через API (ключ находится на странице конкретной модели в Roboflow):\n",
    "    CLIENT = InferenceHTTPClient(\n",
    "          #обращаемся к сайту\n",
    "          api_url=\"https://detect.roboflow.com\",\n",
    "          #обращаемся по ключу к модели\n",
    "          api_key=\"bpBEGQKQ0Xzm4n4L3VPs\"\n",
    "      )\n",
    "    result = CLIENT.infer(\"image.jpg\", model_id=\"etiquetado-de-danos/1\")#указываем выбранную модель 'etiquetado-de-danos/1'\n",
    "    \n",
    "    #обращаемся по ключу словаря \"predictions\" к результатам работы модели. И проверяем , что есть 'is' предсказания\n",
    "    if result['predictions']:\n",
    "        answer = \"найден тип повреждения \" + result['predictions'][0]['class'] + \" с точностью: \" + str(round((result['predictions'][0]['confidence']),2))\n",
    "    else:\n",
    "        answer = \"повреждения не найдены\"\n",
    "    bot.send_message(message.chat.id, 'Результат: ' + answer)\n",
    "\n",
    "# Запускаем поллинг бота (непрерывный опрос Телеграм)\n",
    "bot.polling(none_stop=True, interval=0)"
   ]
  },
  {
   "cell_type": "markdown",
   "metadata": {
    "id": "E1Qi1kaBqVT-"
   },
   "source": [
    "Что можно доделать в боте:\n",
    "1. Добавить в функционал возвращение фотографии с размеченным изображением повреждения. В выходных данных модель уже дает координаты повреждения (см. документацию модели)\n",
    "2. Добавить иснтукцию к боту, которая выводится при команде /help\n",
    "3. Сделать словарь для перевода английских терминов Roboflow на русский язык.\n"
   ]
  }
 ],
 "metadata": {
  "colab": {
   "provenance": []
  },
  "kernelspec": {
   "display_name": "Python 3 (ipykernel)",
   "language": "python",
   "name": "python3"
  },
  "language_info": {
   "codemirror_mode": {
    "name": "ipython",
    "version": 3
   },
   "file_extension": ".py",
   "mimetype": "text/x-python",
   "name": "python",
   "nbconvert_exporter": "python",
   "pygments_lexer": "ipython3",
   "version": "3.12.4"
  }
 },
 "nbformat": 4,
 "nbformat_minor": 4
}
